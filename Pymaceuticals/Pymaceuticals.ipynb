{
 "cells": [
  {
   "cell_type": "markdown",
   "metadata": {},
   "source": [
    "## Observations and Insights "
   ]
  },
  {
   "cell_type": "markdown",
   "metadata": {},
   "source": []
  },
  {
   "cell_type": "code",
   "execution_count": null,
   "metadata": {},
   "outputs": [],
   "source": [
    "# Dependencies and Setup\n",
    "import matplotlib.pyplot as plt\n",
    "import pandas as pd\n",
    "import scipy.stats as st\n",
    "from scipy.stats import sem\n",
    "# %matplotlib notebook\n",
    "\n",
    "# Study data files\n",
    "mouse_metadata_path = \"data/Mouse_metadata.csv\"\n",
    "study_results_path = \"data/Study_results.csv\"\n",
    "\n",
    "# Read the mouse data and the study results\n",
    "mouse_metadata = pd.read_csv(mouse_metadata_path)\n",
    "study_results = pd.read_csv(study_results_path)\n",
    "\n",
    "# Combine the data into a single dataset\n",
    "merge_df = pd.merge(mouse_metadata, study_results, on=\"Mouse ID\")\n",
    "\n",
    "# Display the data table for preview\n",
    "merge_df.head()"
   ]
  },
  {
   "cell_type": "code",
   "execution_count": null,
   "metadata": {},
   "outputs": [],
   "source": [
    "# Checking the number of mice.\n",
    "total_mice = len(merge_df[\"Mouse ID\"].unique())\n",
    "total_mice_df = pd.DataFrame({\"Total Mice\": [total_mice]})\n",
    "total_mice_df"
   ]
  },
  {
   "cell_type": "code",
   "execution_count": null,
   "metadata": {},
   "outputs": [],
   "source": [
    "# Getting the duplicate mice by ID number that shows up for Mouse ID and Timepoint. \n",
    "dup_mouse = merge_df.loc[merge_df.duplicated(subset = [\"Mouse ID\", \"Timepoint\"]),\"Mouse ID\"].unique()\n",
    "dup_mouse"
   ]
  },
  {
   "cell_type": "code",
   "execution_count": null,
   "metadata": {},
   "outputs": [],
   "source": [
    "# Optional: Get all the data for the duplicate mouse ID. \n",
    "\n"
   ]
  },
  {
   "cell_type": "code",
   "execution_count": null,
   "metadata": {},
   "outputs": [],
   "source": [
    "# Create a clean DataFrame by dropping the duplicate mouse by its ID.\n",
    "\n",
    "# I need to figure out how to create a clean data frame with all the other columns without dropping necessary data. \n",
    "final_df = merge_df[merge_df[\"Mouse ID\"].isin(dup_mouse)==False]\n",
    "final_df.head()"
   ]
  },
  {
   "cell_type": "code",
   "execution_count": null,
   "metadata": {},
   "outputs": [],
   "source": [
    "# Checking the number of mice in the clean DataFrame.\n",
    "total_mice = len(final_df[\"Mouse ID\"].unique())\n",
    "total_mice"
   ]
  },
  {
   "cell_type": "markdown",
   "metadata": {},
   "source": [
    "## Summary Statistics"
   ]
  },
  {
   "cell_type": "code",
   "execution_count": null,
   "metadata": {},
   "outputs": [],
   "source": [
    "# Generate a summary statistics table of mean, median, variance, standard deviation, and SEM of the tumor volume for each regimen\n",
    "\n",
    "# This method is the most straighforward, creating multiple series and putting them all together at the end.\n",
    "\n",
    "vol_mean = final_df.groupby(\"Drug Regimen\").mean()[\"Tumor Volume (mm3)\"]\n",
    "vol_median = final_df.groupby(\"Drug Regimen\").median()[\"Tumor Volume (mm3)\"]\n",
    "vol_std = final_df.groupby(\"Drug Regimen\").std()[\"Tumor Volume (mm3)\"]\n",
    "vol_var = final_df.groupby(\"Drug Regimen\").var()[\"Tumor Volume (mm3)\"]\n",
    "vol_sem = final_df.groupby(\"Drug Regimen\").sem()[\"Tumor Volume (mm3)\"]\n",
    "\n",
    "summary_df = pd.DataFrame({\"Mean\": vol_mean,\n",
    "                           \"Median\": vol_median, \n",
    "                           \"Variance\": vol_var,\n",
    "                           \"Standard Dev.\": vol_std,\n",
    "                           \"SEM\": vol_sem\n",
    "                          \n",
    "                          })\n",
    "summary_df"
   ]
  },
  {
   "cell_type": "code",
   "execution_count": null,
   "metadata": {},
   "outputs": [],
   "source": [
    "# Generate a summary statistics table of mean, median, variance, standard deviation, and SEM of the tumor volume for each regimen\n",
    "summary_new = final_df.groupby(\"Drug Regimen\").agg({\"Tumor Volume (mm3)\":[\"mean\",\"median\",\"var\",\"std\",\"sem\"]})\n",
    "summary_new\n",
    "# This method produces everything in a single groupby function\n"
   ]
  },
  {
   "cell_type": "markdown",
   "metadata": {},
   "source": [
    "## Bar and Pie Charts"
   ]
  },
  {
   "cell_type": "code",
   "execution_count": null,
   "metadata": {},
   "outputs": [],
   "source": [
    "# Generate a bar plot showing the total number of mice for each treatment throughout the course of the study using pandas. \n",
    "# i have to find a way to add the number of mice to a dataframe in a way that will allow me to plot them. \n",
    "# Filter the DataFrame down only to those columns to chart\n",
    "mice_and_drugs = final_df.groupby(\"Drug Regimen\").count()[\"Mouse ID\"]\n",
    "\n",
    "\n",
    "# Set the index to be \"Drug Regimen\" so they will be used as labels\n",
    "# mice_and_drugs = mice_and_drugs.set_index(\"Drug Regimen\")\n",
    "\n",
    "mice_and_drugs.plot(kind=\"bar\") # figsize=(10,3)\n",
    "\n",
    "# Set a title for the chart\n",
    "plt.title(\"Treatments\")\n",
    "\n",
    "plt.show()\n",
    "plt.tight_layout()"
   ]
  },
  {
   "cell_type": "code",
   "execution_count": null,
   "metadata": {},
   "outputs": [],
   "source": [
    "# Generate a bar plot showing the total number of mice for each treatment throughout the course of the study using pyplot.\n",
    "mice_and_drugs = final_df.groupby(\"Drug Regimen\").count()[\"Mouse ID\"]\n",
    "mice_and_drugs\n",
    "plt.bar(mice_and_drugs.index, mice_and_drugs.values, color='r', alpha=0.5, align=\"center\")\n",
    "plt.xticks(rotation=90)"
   ]
  },
  {
   "cell_type": "code",
   "execution_count": null,
   "metadata": {},
   "outputs": [],
   "source": [
    "# Generate a pie plot showing the distribution of female versus male mice using pandas\n",
    "count = final_df[\"Sex\"].value_counts()\n",
    "label_y = ['Male', 'Female']\n",
    "count.plot(kind=\"pie\", autopct='%1.1f%%')\n",
    "\n",
    "color1 = ['violet', 'green']\n",
    "color2 = ['red', 'blue']\n",
    "explode = [0.1, 0]\n",
    "\n",
    "plt.show()\n",
    "plt.tight_layout()"
   ]
  },
  {
   "cell_type": "code",
   "execution_count": null,
   "metadata": {},
   "outputs": [],
   "source": [
    "# Generate a pie plot showing the distribution of female versus male mice using pyplot\n",
    "plt.pie(count, explode=explode, labels=label_y, colors=color2, autopct='%1.1f%%', shadow=True,\n",
    "       startangle=140)\n",
    "\n",
    "#add title\n",
    "plt.title('Male v. Female Population')\n",
    "plt.show()"
   ]
  },
  {
   "cell_type": "markdown",
   "metadata": {},
   "source": [
    "## Quartiles, Outliers and Boxplots"
   ]
  },
  {
   "cell_type": "code",
   "execution_count": null,
   "metadata": {},
   "outputs": [],
   "source": [
    "# Calculate the final tumor volume of each mouse across four of the treatment regimens:  \n",
    "# Capomulin, Ramicane, Infubinol, and Ceftamin\n",
    "\n",
    "# Start by getting the last (greatest) timepoint for each mouse\n",
    "max_tumor = final_df.groupby(\"Mouse ID\").max()[\"Timepoint\"]\n",
    "\n",
    "max_tumor = max_tumor.reset_index()\n",
    "max_tumor\n",
    "\n",
    "# Merge this group df with the original dataframe to get the tumor volume at the last timepoint\n",
    "merge_df = pd.merge(max_tumor[[\"Mouse ID\", \"Timepoint\"]], final_df, how=\"left\", on=[\"Mouse ID\", \"Timepoint\"])\n",
    "merge_df"
   ]
  },
  {
   "cell_type": "code",
   "execution_count": null,
   "metadata": {},
   "outputs": [],
   "source": [
    "# Put treatments into a list for for loop (and later for plot labels)\n",
    "drug_list = [\"Capomulin\", \"Ramicane\", \"Infubinol\", \"Ceftamin\"]\n",
    "tumor_list = []\n",
    "\n",
    "for x in drug_list: \n",
    "    tumor_vol = merge_df.loc[merge_df[\"Drug Regimen\"]==x][\"Tumor Volume (mm3)\"]\n",
    "    tumor_list.append(tumor_vol)\n",
    "    quartiles = tumor_vol.quantile([.25,.5,.75])\n",
    "    lowerq = quartiles[.25]\n",
    "    upperq = quartiles[.5]\n",
    "    iqr = upperq - lowerq\n",
    "\n",
    "print(f\"The lower quartile of tumor volume is: {lowerq}\")\n",
    "print(f\"The upper quartile of tumor volume is: {upperq}\")\n",
    "print(f\"The interquartile range of tumor volume is: {iqr}\")\n",
    "print(f\"The median of tumor volume is: {quartiles[.5]}\")\n",
    "\n",
    "# Create empty list to fill with tumor vol data (for plotting)\n",
    "\n",
    "\n",
    "# Calculate the IQR and quantitatively determine if there are any potential outliers. \n",
    "\n",
    "    \n",
    "    # Locate the rows which contain mice on each drug and get the tumor volumes\n",
    "    \n",
    "    \n",
    "    # add subset \n",
    "    \n",
    "    \n",
    "    # Determine outliers using upper and lower bounds\n",
    "    "
   ]
  },
  {
   "cell_type": "code",
   "execution_count": null,
   "metadata": {},
   "outputs": [],
   "source": [
    "# Generate a box plot of the final tumor volume of each mouse across four regimens of interest\n",
    "fig1, ax1 = plt.subplots()\n",
    "plt.boxplot(tumor_list)\n",
    "plt.show"
   ]
  },
  {
   "cell_type": "markdown",
   "metadata": {},
   "source": [
    "## Line and Scatter Plots"
   ]
  },
  {
   "cell_type": "code",
   "execution_count": null,
   "metadata": {},
   "outputs": [],
   "source": [
    "# Generate a line plot of time point versus tumor volume for a mouse treated with Capomulin\n",
    "cap_df = final_df.loc[final_df[\"Drug Regimen\"] == \"Capomulin\"]\n",
    "y_axis = cap_df.groupby(\"Timepoint\").mean()[\"Tumor Volume (mm3)\"]\n",
    "x_axis = cap_df.groupby(\"Timepoint\").count().reset_index()[\"Timepoint\"]\n",
    "plt.xlabel(\"Timepoint\")\n",
    "plt.ylabel(\"Avg. Tumor Volume for Capomulin Treatments\")\n",
    "plt.plot(x_axis, y_axis)\n",
    "plt.show()"
   ]
  },
  {
   "cell_type": "code",
   "execution_count": null,
   "metadata": {},
   "outputs": [],
   "source": [
    "# Generate a scatter plot of mouse weight versus average tumor volume for the Capomulin regimen\n",
    "mouse_weight = final_df.groupby(\"Mouse ID\").mean()[\"Weight (g)\"]\n",
    "tumor_volume = final_df.groupby(\"Mouse ID\").mean()[\"Tumor Volume (mm3)\"]\n",
    "tumor_volume\n",
    "plt.scatter(mouse_weight, tumor_volume, marker=\"o\", facecolors=\"blue\", edgecolors=\"black\",\n",
    "           s=x_axis, alpha=.75)\n",
    "plt.xlabel(\"Timepoint\")\n",
    "plt.ylabel(\"Average Tumor Volume Across Capomulin Treatment\")"
   ]
  },
  {
   "cell_type": "markdown",
   "metadata": {},
   "source": [
    "## Correlation and Regression"
   ]
  },
  {
   "cell_type": "code",
   "execution_count": null,
   "metadata": {},
   "outputs": [],
   "source": [
    "# Calculate the correlation coefficient and linear regression model \n",
    "# for mouse weight and average tumor volume for the Capomulin regimen\n",
    "cap_df = final_df[final_df[\"Drug Regimen\"]==\"Capomulin\"]\n",
    "cap_df[\"Weight (g)\"].corr(cap_df[\"Tumor Volume (mm3)\"])\n"
   ]
  },
  {
   "cell_type": "code",
   "execution_count": null,
   "metadata": {},
   "outputs": [],
   "source": [
    "st.linregress(cap_df[\"Weight (g)\"], cap_df[\"Tumor Volume (mm3)\"])\n"
   ]
  },
  {
   "cell_type": "code",
   "execution_count": null,
   "metadata": {},
   "outputs": [],
   "source": []
  }
 ],
 "metadata": {
  "anaconda-cloud": {},
  "kernelspec": {
   "display_name": "PythonData",
   "language": "python",
   "name": "pythondata"
  },
  "language_info": {
   "codemirror_mode": {
    "name": "ipython",
    "version": 3
   },
   "file_extension": ".py",
   "mimetype": "text/x-python",
   "name": "python",
   "nbconvert_exporter": "python",
   "pygments_lexer": "ipython3",
   "version": "3.7.6"
  }
 },
 "nbformat": 4,
 "nbformat_minor": 2
}
